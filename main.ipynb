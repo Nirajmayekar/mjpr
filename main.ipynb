{
 "cells": [
  {
   "cell_type": "code",
   "execution_count": 2,
   "metadata": {},
   "outputs": [
    {
     "name": "stdout",
     "output_type": "stream",
     "text": [
      "Ultralytics YOLOv8.2.0  Python-3.12.2 torch-2.2.2+cpu CPU (Intel Core(TM) i5-10300H 2.50GHz)\n",
      "Setup complete  (8 CPUs, 7.8 GB RAM, 159.3/209.3 GB disk)\n"
     ]
    }
   ],
   "source": [
    "# pip install ultralytics==8.2.103 -q\n",
    "\n",
    "from IPython import display\n",
    "display.clear_output()\n",
    "\n",
    "import ultralytics\n",
    "ultralytics.checks()"
   ]
  },
  {
   "cell_type": "code",
   "execution_count": 2,
   "metadata": {},
   "outputs": [
    {
     "name": "stderr",
     "output_type": "stream",
     "text": [
      "c:\\Users\\sheno\\AppData\\Local\\Programs\\Python\\Python312\\Lib\\site-packages\\tqdm\\auto.py:21: TqdmWarning: IProgress not found. Please update jupyter and ipywidgets. See https://ipywidgets.readthedocs.io/en/stable/user_install.html\n",
      "  from .autonotebook import tqdm as notebook_tqdm\n"
     ]
    },
    {
     "name": "stdout",
     "output_type": "stream",
     "text": [
      "\n",
      "image 1/1 c:\\Users\\sheno\\OneDrive\\Desktop\\mjpr\\street_view_detection_180.jpg: 800x800 5 trees, 437.7ms\n",
      "Speed: 10.0ms preprocess, 437.7ms inference, 2.0ms postprocess per image at shape (1, 3, 800, 800)\n",
      "\n",
      "0: 128x128 images 1.00, labels 0.00, 11.1ms\n",
      "Speed: 3.1ms preprocess, 11.1ms inference, 0.0ms postprocess per image at shape (1, 3, 128, 128)\n",
      "images\n"
     ]
    }
   ],
   "source": [
    "import numpy as np\n",
    "from ultralytics import YOLO\n",
    "import cv2\n",
    "\n",
    "model1 = YOLO(\"best (1).pt\")\n",
    "model2 = YOLO(\"best_classify_plants (1).pt\")\n",
    "\n",
    "image_path = \"street_view_detection_180.jpg\"\n",
    "result1s = model1(image_path)\n",
    "i = 0\n",
    "\n",
    "for result1 in result1s:\n",
    "    x, y, w, h = result1.boxes.xywh[0]\n",
    "\n",
    "    image = result1.orig_img\n",
    "    image_array = np.array(image)\n",
    "\n",
    "    cropped_image = image_array[int(y-h/2):int(y+h/2), int(x-w/2):int(x+w/2)]\n",
    "    \n",
    "    cv2.imwrite(f\"{image_path}_{i}.jpg\", cropped_image)\n",
    "    \n",
    "    i += 1\n",
    "    result2 = model2(cropped_image)\n",
    "\n",
    "    print(result2[0].names[result2[0].probs.top1])"
   ]
  },
  {
   "cell_type": "code",
   "execution_count": 3,
   "metadata": {},
   "outputs": [
    {
     "name": "stdout",
     "output_type": "stream",
     "text": [
      "{0: 'images', 1: 'labels'}\n"
     ]
    }
   ],
   "source": [
    "print(result2[0].names)\n"
   ]
  }
 ],
 "metadata": {
  "kernelspec": {
   "display_name": "Python 3",
   "language": "python",
   "name": "python3"
  },
  "language_info": {
   "codemirror_mode": {
    "name": "ipython",
    "version": 3
   },
   "file_extension": ".py",
   "mimetype": "text/x-python",
   "name": "python",
   "nbconvert_exporter": "python",
   "pygments_lexer": "ipython3",
   "version": "3.12.2"
  }
 },
 "nbformat": 4,
 "nbformat_minor": 2
}
